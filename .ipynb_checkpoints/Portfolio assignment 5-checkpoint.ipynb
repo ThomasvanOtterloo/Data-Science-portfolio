{
 "cells": [
  {
   "cell_type": "code",
   "execution_count": 1,
   "id": "aabc1fa9",
   "metadata": {},
   "outputs": [],
   "source": [
    "import pandas as pd"
   ]
  },
  {
   "cell_type": "code",
   "execution_count": 2,
   "id": "30f14abe",
   "metadata": {},
   "outputs": [],
   "source": [
    "import seaborn as sns"
   ]
  },
  {
   "cell_type": "code",
   "execution_count": 3,
   "id": "9b82ce00",
   "metadata": {},
   "outputs": [],
   "source": [
    "lifeExpectancy = pd.read_csv('lifeExpectancyAtBirth.csv', sep=',')"
   ]
  },
  {
   "cell_type": "code",
   "execution_count": 4,
   "id": "9723ae4f",
   "metadata": {},
   "outputs": [
    {
     "data": {
      "text/html": [
       "<div>\n",
       "<style scoped>\n",
       "    .dataframe tbody tr th:only-of-type {\n",
       "        vertical-align: middle;\n",
       "    }\n",
       "\n",
       "    .dataframe tbody tr th {\n",
       "        vertical-align: top;\n",
       "    }\n",
       "\n",
       "    .dataframe thead th {\n",
       "        text-align: right;\n",
       "    }\n",
       "</style>\n",
       "<table border=\"1\" class=\"dataframe\">\n",
       "  <thead>\n",
       "    <tr style=\"text-align: right;\">\n",
       "      <th></th>\n",
       "      <th>Location</th>\n",
       "      <th>Period</th>\n",
       "      <th>Indicator</th>\n",
       "      <th>Dim1</th>\n",
       "      <th>First Tooltip</th>\n",
       "    </tr>\n",
       "  </thead>\n",
       "  <tbody>\n",
       "    <tr>\n",
       "      <th>0</th>\n",
       "      <td>Afghanistan</td>\n",
       "      <td>2019</td>\n",
       "      <td>Life expectancy at birth (years)</td>\n",
       "      <td>Both sexes</td>\n",
       "      <td>63.21</td>\n",
       "    </tr>\n",
       "    <tr>\n",
       "      <th>1</th>\n",
       "      <td>Afghanistan</td>\n",
       "      <td>2019</td>\n",
       "      <td>Life expectancy at birth (years)</td>\n",
       "      <td>Male</td>\n",
       "      <td>63.29</td>\n",
       "    </tr>\n",
       "    <tr>\n",
       "      <th>2</th>\n",
       "      <td>Afghanistan</td>\n",
       "      <td>2019</td>\n",
       "      <td>Life expectancy at birth (years)</td>\n",
       "      <td>Female</td>\n",
       "      <td>63.16</td>\n",
       "    </tr>\n",
       "    <tr>\n",
       "      <th>3</th>\n",
       "      <td>Afghanistan</td>\n",
       "      <td>2015</td>\n",
       "      <td>Life expectancy at birth (years)</td>\n",
       "      <td>Both sexes</td>\n",
       "      <td>61.65</td>\n",
       "    </tr>\n",
       "    <tr>\n",
       "      <th>4</th>\n",
       "      <td>Afghanistan</td>\n",
       "      <td>2015</td>\n",
       "      <td>Life expectancy at birth (years)</td>\n",
       "      <td>Male</td>\n",
       "      <td>61.04</td>\n",
       "    </tr>\n",
       "  </tbody>\n",
       "</table>\n",
       "</div>"
      ],
      "text/plain": [
       "      Location  Period                         Indicator        Dim1  \\\n",
       "0  Afghanistan    2019  Life expectancy at birth (years)  Both sexes   \n",
       "1  Afghanistan    2019  Life expectancy at birth (years)        Male   \n",
       "2  Afghanistan    2019  Life expectancy at birth (years)      Female   \n",
       "3  Afghanistan    2015  Life expectancy at birth (years)  Both sexes   \n",
       "4  Afghanistan    2015  Life expectancy at birth (years)        Male   \n",
       "\n",
       "   First Tooltip  \n",
       "0          63.21  \n",
       "1          63.29  \n",
       "2          63.16  \n",
       "3          61.65  \n",
       "4          61.04  "
      ]
     },
     "execution_count": 4,
     "metadata": {},
     "output_type": "execute_result"
    }
   ],
   "source": [
    "lifeExpectancy.head()"
   ]
  },
  {
   "cell_type": "code",
   "execution_count": 5,
   "id": "795eb1a3",
   "metadata": {},
   "outputs": [],
   "source": [
    "year = 'Period'\n",
    "sex = 'Dim1'"
   ]
  },
  {
   "cell_type": "code",
   "execution_count": 6,
   "id": "c863a3a6",
   "metadata": {},
   "outputs": [],
   "source": [
    "filterOnyear = lifeExpectancy[year] == 2019\n",
    "filterOnBothSexes = lifeExpectancy[sex] == 'Both sexes'"
   ]
  },
  {
   "cell_type": "code",
   "execution_count": 7,
   "id": "f9068e15",
   "metadata": {},
   "outputs": [],
   "source": [
    "FilteredTable = lifeExpectancy[(filterOnyear) & (filterOnBothSexes)]"
   ]
  },
  {
   "cell_type": "code",
   "execution_count": 8,
   "id": "13b76e02",
   "metadata": {},
   "outputs": [
    {
     "data": {
      "text/html": [
       "<div>\n",
       "<style scoped>\n",
       "    .dataframe tbody tr th:only-of-type {\n",
       "        vertical-align: middle;\n",
       "    }\n",
       "\n",
       "    .dataframe tbody tr th {\n",
       "        vertical-align: top;\n",
       "    }\n",
       "\n",
       "    .dataframe thead th {\n",
       "        text-align: right;\n",
       "    }\n",
       "</style>\n",
       "<table border=\"1\" class=\"dataframe\">\n",
       "  <thead>\n",
       "    <tr style=\"text-align: right;\">\n",
       "      <th></th>\n",
       "      <th>Location</th>\n",
       "      <th>Period</th>\n",
       "      <th>Indicator</th>\n",
       "      <th>Dim1</th>\n",
       "      <th>First Tooltip</th>\n",
       "    </tr>\n",
       "  </thead>\n",
       "  <tbody>\n",
       "    <tr>\n",
       "      <th>997</th>\n",
       "      <td>Japan</td>\n",
       "      <td>2019</td>\n",
       "      <td>Life expectancy at birth (years)</td>\n",
       "      <td>Both sexes</td>\n",
       "      <td>84.26</td>\n",
       "    </tr>\n",
       "    <tr>\n",
       "      <th>1897</th>\n",
       "      <td>Switzerland</td>\n",
       "      <td>2019</td>\n",
       "      <td>Life expectancy at birth (years)</td>\n",
       "      <td>Both sexes</td>\n",
       "      <td>83.45</td>\n",
       "    </tr>\n",
       "    <tr>\n",
       "      <th>1573</th>\n",
       "      <td>Republic of Korea</td>\n",
       "      <td>2019</td>\n",
       "      <td>Life expectancy at birth (years)</td>\n",
       "      <td>Both sexes</td>\n",
       "      <td>83.30</td>\n",
       "    </tr>\n",
       "    <tr>\n",
       "      <th>1837</th>\n",
       "      <td>Spain</td>\n",
       "      <td>2019</td>\n",
       "      <td>Life expectancy at birth (years)</td>\n",
       "      <td>Both sexes</td>\n",
       "      <td>83.22</td>\n",
       "    </tr>\n",
       "    <tr>\n",
       "      <th>1753</th>\n",
       "      <td>Singapore</td>\n",
       "      <td>2019</td>\n",
       "      <td>Life expectancy at birth (years)</td>\n",
       "      <td>Both sexes</td>\n",
       "      <td>83.22</td>\n",
       "    </tr>\n",
       "  </tbody>\n",
       "</table>\n",
       "</div>"
      ],
      "text/plain": [
       "               Location  Period                         Indicator        Dim1  \\\n",
       "997               Japan    2019  Life expectancy at birth (years)  Both sexes   \n",
       "1897        Switzerland    2019  Life expectancy at birth (years)  Both sexes   \n",
       "1573  Republic of Korea    2019  Life expectancy at birth (years)  Both sexes   \n",
       "1837              Spain    2019  Life expectancy at birth (years)  Both sexes   \n",
       "1753          Singapore    2019  Life expectancy at birth (years)  Both sexes   \n",
       "\n",
       "      First Tooltip  \n",
       "997           84.26  \n",
       "1897          83.45  \n",
       "1573          83.30  \n",
       "1837          83.22  \n",
       "1753          83.22  "
      ]
     },
     "execution_count": 8,
     "metadata": {},
     "output_type": "execute_result"
    }
   ],
   "source": [
    "FilteredTable.sort_values('First Tooltip', ascending=False).head(5)"
   ]
  },
  {
   "cell_type": "code",
   "execution_count": 9,
   "id": "559389f2",
   "metadata": {},
   "outputs": [
    {
     "data": {
      "text/html": [
       "<div>\n",
       "<style scoped>\n",
       "    .dataframe tbody tr th:only-of-type {\n",
       "        vertical-align: middle;\n",
       "    }\n",
       "\n",
       "    .dataframe tbody tr th {\n",
       "        vertical-align: top;\n",
       "    }\n",
       "\n",
       "    .dataframe thead th {\n",
       "        text-align: right;\n",
       "    }\n",
       "</style>\n",
       "<table border=\"1\" class=\"dataframe\">\n",
       "  <thead>\n",
       "    <tr style=\"text-align: right;\">\n",
       "      <th></th>\n",
       "      <th>Location</th>\n",
       "      <th>Period</th>\n",
       "      <th>Indicator</th>\n",
       "      <th>Dim1</th>\n",
       "      <th>First Tooltip</th>\n",
       "    </tr>\n",
       "  </thead>\n",
       "  <tbody>\n",
       "    <tr>\n",
       "      <th>1117</th>\n",
       "      <td>Lesotho</td>\n",
       "      <td>2019</td>\n",
       "      <td>Life expectancy at birth (years)</td>\n",
       "      <td>Both sexes</td>\n",
       "      <td>50.75</td>\n",
       "    </tr>\n",
       "    <tr>\n",
       "      <th>373</th>\n",
       "      <td>Central African Republic</td>\n",
       "      <td>2019</td>\n",
       "      <td>Life expectancy at birth (years)</td>\n",
       "      <td>Both sexes</td>\n",
       "      <td>53.10</td>\n",
       "    </tr>\n",
       "    <tr>\n",
       "      <th>1801</th>\n",
       "      <td>Somalia</td>\n",
       "      <td>2019</td>\n",
       "      <td>Life expectancy at birth (years)</td>\n",
       "      <td>Both sexes</td>\n",
       "      <td>56.47</td>\n",
       "    </tr>\n",
       "    <tr>\n",
       "      <th>661</th>\n",
       "      <td>Eswatini</td>\n",
       "      <td>2019</td>\n",
       "      <td>Life expectancy at birth (years)</td>\n",
       "      <td>Both sexes</td>\n",
       "      <td>57.73</td>\n",
       "    </tr>\n",
       "    <tr>\n",
       "      <th>1333</th>\n",
       "      <td>Mozambique</td>\n",
       "      <td>2019</td>\n",
       "      <td>Life expectancy at birth (years)</td>\n",
       "      <td>Both sexes</td>\n",
       "      <td>58.14</td>\n",
       "    </tr>\n",
       "  </tbody>\n",
       "</table>\n",
       "</div>"
      ],
      "text/plain": [
       "                      Location  Period                         Indicator  \\\n",
       "1117                   Lesotho    2019  Life expectancy at birth (years)   \n",
       "373   Central African Republic    2019  Life expectancy at birth (years)   \n",
       "1801                   Somalia    2019  Life expectancy at birth (years)   \n",
       "661                   Eswatini    2019  Life expectancy at birth (years)   \n",
       "1333                Mozambique    2019  Life expectancy at birth (years)   \n",
       "\n",
       "            Dim1  First Tooltip  \n",
       "1117  Both sexes          50.75  \n",
       "373   Both sexes          53.10  \n",
       "1801  Both sexes          56.47  \n",
       "661   Both sexes          57.73  \n",
       "1333  Both sexes          58.14  "
      ]
     },
     "execution_count": 9,
     "metadata": {},
     "output_type": "execute_result"
    }
   ],
   "source": [
    "FilteredTable.sort_values('First Tooltip', ascending=True).head(5)"
   ]
  }
 ],
 "metadata": {
  "kernelspec": {
   "display_name": "Python 3 (ipykernel)",
   "language": "python",
   "name": "python3"
  },
  "language_info": {
   "codemirror_mode": {
    "name": "ipython",
    "version": 3
   },
   "file_extension": ".py",
   "mimetype": "text/x-python",
   "name": "python",
   "nbconvert_exporter": "python",
   "pygments_lexer": "ipython3",
   "version": "3.9.13"
  }
 },
 "nbformat": 4,
 "nbformat_minor": 5
}
