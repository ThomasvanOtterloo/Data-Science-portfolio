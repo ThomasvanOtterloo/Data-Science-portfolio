{
 "cells": [
  {
   "cell_type": "code",
   "execution_count": 11,
   "id": "aabc1fa9",
   "metadata": {},
   "outputs": [],
   "source": [
    "import pandas as pd"
   ]
  },
  {
   "cell_type": "code",
   "execution_count": 140,
   "id": "30f14abe",
   "metadata": {},
   "outputs": [],
   "source": [
    "import seaborn as sns"
   ]
  },
  {
   "cell_type": "code",
   "execution_count": 17,
   "id": "9b82ce00",
   "metadata": {},
   "outputs": [],
   "source": [
    "lifeExpectancy = pd.read_csv('lifeExpectancyAtBirth.csv', sep=',')"
   ]
  },
  {
   "cell_type": "code",
   "execution_count": 75,
   "id": "9723ae4f",
   "metadata": {},
   "outputs": [
    {
     "data": {
      "text/html": [
       "<div>\n",
       "<style scoped>\n",
       "    .dataframe tbody tr th:only-of-type {\n",
       "        vertical-align: middle;\n",
       "    }\n",
       "\n",
       "    .dataframe tbody tr th {\n",
       "        vertical-align: top;\n",
       "    }\n",
       "\n",
       "    .dataframe thead th {\n",
       "        text-align: right;\n",
       "    }\n",
       "</style>\n",
       "<table border=\"1\" class=\"dataframe\">\n",
       "  <thead>\n",
       "    <tr style=\"text-align: right;\">\n",
       "      <th></th>\n",
       "      <th>Location</th>\n",
       "      <th>Period</th>\n",
       "      <th>Indicator</th>\n",
       "      <th>Dim1</th>\n",
       "      <th>First Tooltip</th>\n",
       "    </tr>\n",
       "  </thead>\n",
       "  <tbody>\n",
       "    <tr>\n",
       "      <th>0</th>\n",
       "      <td>Afghanistan</td>\n",
       "      <td>2019</td>\n",
       "      <td>Life expectancy at birth (years)</td>\n",
       "      <td>Both sexes</td>\n",
       "      <td>63.21</td>\n",
       "    </tr>\n",
       "    <tr>\n",
       "      <th>1</th>\n",
       "      <td>Afghanistan</td>\n",
       "      <td>2019</td>\n",
       "      <td>Life expectancy at birth (years)</td>\n",
       "      <td>Male</td>\n",
       "      <td>63.29</td>\n",
       "    </tr>\n",
       "    <tr>\n",
       "      <th>2</th>\n",
       "      <td>Afghanistan</td>\n",
       "      <td>2019</td>\n",
       "      <td>Life expectancy at birth (years)</td>\n",
       "      <td>Female</td>\n",
       "      <td>63.16</td>\n",
       "    </tr>\n",
       "    <tr>\n",
       "      <th>3</th>\n",
       "      <td>Afghanistan</td>\n",
       "      <td>2015</td>\n",
       "      <td>Life expectancy at birth (years)</td>\n",
       "      <td>Both sexes</td>\n",
       "      <td>61.65</td>\n",
       "    </tr>\n",
       "    <tr>\n",
       "      <th>4</th>\n",
       "      <td>Afghanistan</td>\n",
       "      <td>2015</td>\n",
       "      <td>Life expectancy at birth (years)</td>\n",
       "      <td>Male</td>\n",
       "      <td>61.04</td>\n",
       "    </tr>\n",
       "  </tbody>\n",
       "</table>\n",
       "</div>"
      ],
      "text/plain": [
       "      Location  Period                         Indicator        Dim1  \\\n",
       "0  Afghanistan    2019  Life expectancy at birth (years)  Both sexes   \n",
       "1  Afghanistan    2019  Life expectancy at birth (years)        Male   \n",
       "2  Afghanistan    2019  Life expectancy at birth (years)      Female   \n",
       "3  Afghanistan    2015  Life expectancy at birth (years)  Both sexes   \n",
       "4  Afghanistan    2015  Life expectancy at birth (years)        Male   \n",
       "\n",
       "   First Tooltip  \n",
       "0          63.21  \n",
       "1          63.29  \n",
       "2          63.16  \n",
       "3          61.65  \n",
       "4          61.04  "
      ]
     },
     "execution_count": 75,
     "metadata": {},
     "output_type": "execute_result"
    }
   ],
   "source": [
    "lifeExpectancy.head()"
   ]
  },
  {
   "cell_type": "code",
   "execution_count": 111,
   "id": "795eb1a3",
   "metadata": {},
   "outputs": [],
   "source": [
    "year = 'Period'\n",
    "sex = 'Dim1'"
   ]
  },
  {
   "cell_type": "code",
   "execution_count": 136,
   "id": "c863a3a6",
   "metadata": {},
   "outputs": [],
   "source": [
    "filterOnyear = lifeExpectancy[year] == 2019\n",
    "filterOnBothSexes = lifeExpectancy[sex] == 'Both sexes'"
   ]
  },
  {
   "cell_type": "code",
   "execution_count": 142,
   "id": "f9068e15",
   "metadata": {},
   "outputs": [],
   "source": [
    "FilteredTable = lifeExpectancy[(filterOnyear) & (filterOnBothSexes)]"
   ]
  },
  {
   "cell_type": "code",
   "execution_count": 152,
   "id": "13b76e02",
   "metadata": {},
   "outputs": [],
   "source": [
    "highest = FilteredTable.sort_values('First Tooltip', ascending=False).head(5)"
   ]
  },
  {
   "cell_type": "code",
   "execution_count": 157,
   "id": "559389f2",
   "metadata": {},
   "outputs": [],
   "source": [
    "lowest = FilteredTable.sort_values('First Tooltip', ascending=True).head(5)"
   ]
  },
  {
   "cell_type": "code",
   "execution_count": null,
   "id": "15921daa",
   "metadata": {},
   "outputs": [],
   "source": []
  }
 ],
 "metadata": {
  "kernelspec": {
   "display_name": "Python 3 (ipykernel)",
   "language": "python",
   "name": "python3"
  },
  "language_info": {
   "codemirror_mode": {
    "name": "ipython",
    "version": 3
   },
   "file_extension": ".py",
   "mimetype": "text/x-python",
   "name": "python",
   "nbconvert_exporter": "python",
   "pygments_lexer": "ipython3",
   "version": "3.9.13"
  }
 },
 "nbformat": 4,
 "nbformat_minor": 5
}
