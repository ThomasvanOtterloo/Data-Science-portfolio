{
 "cells": [
  {
   "cell_type": "markdown",
   "id": "2ccc63d1",
   "metadata": {},
   "source": [
    "I would not like to change my portfolio assignment 1 power point slides. I still think they show a good summery of what data science is."
   ]
  },
  {
   "cell_type": "markdown",
   "id": "5a75fecf",
   "metadata": {},
   "source": [
    "# Explain what data science with portfolio assignments examples"
   ]
  },
  {
   "cell_type": "markdown",
   "id": "ad2cbb78",
   "metadata": {},
   "source": [
    "Data science is a field where we use statistical and computational methods to analyze large and complex datasets, with the goal of solving real-world problems. We often use visualization techniques to help us understand and communicate insights from the data, and may also apply machine learning techniques to make predictions or recommendations based on the data."
   ]
  },
  {
   "cell_type": "markdown",
   "id": "1b9d63f1",
   "metadata": {},
   "source": [
    "![](decision_tree.pdf)"
   ]
  },
  {
   "cell_type": "markdown",
   "id": "416b6f67",
   "metadata": {},
   "source": [
    "This is a visualization of a decision tree. (Image above) This method is used in Machine learning. Machine learning involves training models to automatically learn patterns and relationships in data, which can then be used to make predictions or decisions about new data. This is part of data science."
   ]
  },
  {
   "cell_type": "markdown",
   "id": "cd1d9a8f",
   "metadata": {},
   "source": [
    "In the image below it shows the power of data visualization for exploring and understanding data. By creating visual representations of data, we can quickly identify patterns and relationships that might be difficult to see in raw data alone. \n",
    "\n",
    "Visualizations are an important tool for communicating insights to others as well. By presenting data in a visually compelling way, we can help others understand complex concepts and make informed decisions based on the data. This is particularly important in fields like data science, where communicating findings to stakeholders is a critical part of the job.\n",
    "\n",
    "Overall, visualizations are a valuable part of the data science toolkit, enabling us to explore, understand, and communicate insights from data more effectively."
   ]
  },
  {
   "cell_type": "markdown",
   "id": "69063c20",
   "metadata": {},
   "source": [
    "![](Graph.png)"
   ]
  }
 ],
 "metadata": {
  "kernelspec": {
   "display_name": "Python 3 (ipykernel)",
   "language": "python",
   "name": "python3"
  },
  "language_info": {
   "codemirror_mode": {
    "name": "ipython",
    "version": 3
   },
   "file_extension": ".py",
   "mimetype": "text/x-python",
   "name": "python",
   "nbconvert_exporter": "python",
   "pygments_lexer": "ipython3",
   "version": "3.9.13"
  }
 },
 "nbformat": 4,
 "nbformat_minor": 5
}
