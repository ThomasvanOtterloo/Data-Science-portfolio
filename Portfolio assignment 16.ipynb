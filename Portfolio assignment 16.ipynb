{
 "cells": [
  {
   "cell_type": "code",
   "execution_count": 1,
   "id": "b60c4927",
   "metadata": {},
   "outputs": [
    {
     "data": {
      "text/html": [
       "<div>\n",
       "<style scoped>\n",
       "    .dataframe tbody tr th:only-of-type {\n",
       "        vertical-align: middle;\n",
       "    }\n",
       "\n",
       "    .dataframe tbody tr th {\n",
       "        vertical-align: top;\n",
       "    }\n",
       "\n",
       "    .dataframe thead th {\n",
       "        text-align: right;\n",
       "    }\n",
       "</style>\n",
       "<table border=\"1\" class=\"dataframe\">\n",
       "  <thead>\n",
       "    <tr style=\"text-align: right;\">\n",
       "      <th></th>\n",
       "      <th>Rank</th>\n",
       "      <th>Name</th>\n",
       "      <th>Platform</th>\n",
       "      <th>Year</th>\n",
       "      <th>Genre</th>\n",
       "      <th>Publisher</th>\n",
       "      <th>NA_Sales</th>\n",
       "      <th>EU_Sales</th>\n",
       "      <th>JP_Sales</th>\n",
       "      <th>Other_Sales</th>\n",
       "      <th>Global_Sales</th>\n",
       "    </tr>\n",
       "  </thead>\n",
       "  <tbody>\n",
       "    <tr>\n",
       "      <th>0</th>\n",
       "      <td>1</td>\n",
       "      <td>Wii Sports</td>\n",
       "      <td>Wii</td>\n",
       "      <td>2006.0</td>\n",
       "      <td>Sports</td>\n",
       "      <td>Nintendo</td>\n",
       "      <td>41.49</td>\n",
       "      <td>29.02</td>\n",
       "      <td>3.77</td>\n",
       "      <td>8.46</td>\n",
       "      <td>82.74</td>\n",
       "    </tr>\n",
       "    <tr>\n",
       "      <th>1</th>\n",
       "      <td>2</td>\n",
       "      <td>Super Mario Bros.</td>\n",
       "      <td>NES</td>\n",
       "      <td>1985.0</td>\n",
       "      <td>Platform</td>\n",
       "      <td>Nintendo</td>\n",
       "      <td>29.08</td>\n",
       "      <td>3.58</td>\n",
       "      <td>6.81</td>\n",
       "      <td>0.77</td>\n",
       "      <td>40.24</td>\n",
       "    </tr>\n",
       "    <tr>\n",
       "      <th>2</th>\n",
       "      <td>3</td>\n",
       "      <td>Mario Kart Wii</td>\n",
       "      <td>Wii</td>\n",
       "      <td>2008.0</td>\n",
       "      <td>Racing</td>\n",
       "      <td>Nintendo</td>\n",
       "      <td>15.85</td>\n",
       "      <td>12.88</td>\n",
       "      <td>3.79</td>\n",
       "      <td>3.31</td>\n",
       "      <td>35.82</td>\n",
       "    </tr>\n",
       "    <tr>\n",
       "      <th>3</th>\n",
       "      <td>4</td>\n",
       "      <td>Wii Sports Resort</td>\n",
       "      <td>Wii</td>\n",
       "      <td>2009.0</td>\n",
       "      <td>Sports</td>\n",
       "      <td>Nintendo</td>\n",
       "      <td>15.75</td>\n",
       "      <td>11.01</td>\n",
       "      <td>3.28</td>\n",
       "      <td>2.96</td>\n",
       "      <td>33.00</td>\n",
       "    </tr>\n",
       "    <tr>\n",
       "      <th>4</th>\n",
       "      <td>5</td>\n",
       "      <td>Pokemon Red/Pokemon Blue</td>\n",
       "      <td>GB</td>\n",
       "      <td>1996.0</td>\n",
       "      <td>Role-Playing</td>\n",
       "      <td>Nintendo</td>\n",
       "      <td>11.27</td>\n",
       "      <td>8.89</td>\n",
       "      <td>10.22</td>\n",
       "      <td>1.00</td>\n",
       "      <td>31.37</td>\n",
       "    </tr>\n",
       "  </tbody>\n",
       "</table>\n",
       "</div>"
      ],
      "text/plain": [
       "   Rank                      Name Platform    Year         Genre Publisher  \\\n",
       "0     1                Wii Sports      Wii  2006.0        Sports  Nintendo   \n",
       "1     2         Super Mario Bros.      NES  1985.0      Platform  Nintendo   \n",
       "2     3            Mario Kart Wii      Wii  2008.0        Racing  Nintendo   \n",
       "3     4         Wii Sports Resort      Wii  2009.0        Sports  Nintendo   \n",
       "4     5  Pokemon Red/Pokemon Blue       GB  1996.0  Role-Playing  Nintendo   \n",
       "\n",
       "   NA_Sales  EU_Sales  JP_Sales  Other_Sales  Global_Sales  \n",
       "0     41.49     29.02      3.77         8.46         82.74  \n",
       "1     29.08      3.58      6.81         0.77         40.24  \n",
       "2     15.85     12.88      3.79         3.31         35.82  \n",
       "3     15.75     11.01      3.28         2.96         33.00  \n",
       "4     11.27      8.89     10.22         1.00         31.37  "
      ]
     },
     "execution_count": 1,
     "metadata": {},
     "output_type": "execute_result"
    }
   ],
   "source": [
    "import pandas as pd\n",
    "import seaborn as sns\n",
    "import matplotlib.pyplot as plt\n",
    "from sklearn.tree import DecisionTreeClassifier\n",
    "import numpy as np\n",
    "from sklearn.model_selection import train_test_split\n",
    "games = pd.read_csv('vgsales.csv', sep=',')\n",
    "games.head()"
   ]
  },
  {
   "cell_type": "code",
   "execution_count": 2,
   "id": "21c5c696",
   "metadata": {},
   "outputs": [
    {
     "name": "stdout",
     "output_type": "stream",
     "text": [
      "(11403, 11) (4888, 11)\n"
     ]
    }
   ],
   "source": [
    "# Drop rows with missing values\n",
    "games.dropna(inplace=True)\n",
    "\n",
    "# Merge classes with less than two members into a broader category\n",
    "games.loc[games['Publisher'].value_counts()[games['Publisher']].values < 2, 'Publisher'] = 'Other'\n",
    "\n",
    "# Split data into training and test sets, stratifying on the Publisher column\n",
    "games_train, games_test = train_test_split(games, test_size=0.3, random_state=42, stratify=games['Publisher'])\n",
    "\n",
    "# Print the shapes of the training and test sets\n",
    "print(games_train.shape, games_test.shape)\n"
   ]
  },
  {
   "cell_type": "code",
   "execution_count": 3,
   "id": "985ebf91",
   "metadata": {},
   "outputs": [],
   "source": [
    "# Name, Platform, Year, Genre, Publisher, NA_Sales, EU_Sales , JP_Sales, Other_Sales, Global_Sales"
   ]
  },
  {
   "cell_type": "code",
   "execution_count": 4,
   "id": "31f80eeb",
   "metadata": {},
   "outputs": [
    {
     "data": {
      "text/html": [
       "<style>#sk-container-id-1 {color: black;background-color: white;}#sk-container-id-1 pre{padding: 0;}#sk-container-id-1 div.sk-toggleable {background-color: white;}#sk-container-id-1 label.sk-toggleable__label {cursor: pointer;display: block;width: 100%;margin-bottom: 0;padding: 0.3em;box-sizing: border-box;text-align: center;}#sk-container-id-1 label.sk-toggleable__label-arrow:before {content: \"▸\";float: left;margin-right: 0.25em;color: #696969;}#sk-container-id-1 label.sk-toggleable__label-arrow:hover:before {color: black;}#sk-container-id-1 div.sk-estimator:hover label.sk-toggleable__label-arrow:before {color: black;}#sk-container-id-1 div.sk-toggleable__content {max-height: 0;max-width: 0;overflow: hidden;text-align: left;background-color: #f0f8ff;}#sk-container-id-1 div.sk-toggleable__content pre {margin: 0.2em;color: black;border-radius: 0.25em;background-color: #f0f8ff;}#sk-container-id-1 input.sk-toggleable__control:checked~div.sk-toggleable__content {max-height: 200px;max-width: 100%;overflow: auto;}#sk-container-id-1 input.sk-toggleable__control:checked~label.sk-toggleable__label-arrow:before {content: \"▾\";}#sk-container-id-1 div.sk-estimator input.sk-toggleable__control:checked~label.sk-toggleable__label {background-color: #d4ebff;}#sk-container-id-1 div.sk-label input.sk-toggleable__control:checked~label.sk-toggleable__label {background-color: #d4ebff;}#sk-container-id-1 input.sk-hidden--visually {border: 0;clip: rect(1px 1px 1px 1px);clip: rect(1px, 1px, 1px, 1px);height: 1px;margin: -1px;overflow: hidden;padding: 0;position: absolute;width: 1px;}#sk-container-id-1 div.sk-estimator {font-family: monospace;background-color: #f0f8ff;border: 1px dotted black;border-radius: 0.25em;box-sizing: border-box;margin-bottom: 0.5em;}#sk-container-id-1 div.sk-estimator:hover {background-color: #d4ebff;}#sk-container-id-1 div.sk-parallel-item::after {content: \"\";width: 100%;border-bottom: 1px solid gray;flex-grow: 1;}#sk-container-id-1 div.sk-label:hover label.sk-toggleable__label {background-color: #d4ebff;}#sk-container-id-1 div.sk-serial::before {content: \"\";position: absolute;border-left: 1px solid gray;box-sizing: border-box;top: 0;bottom: 0;left: 50%;z-index: 0;}#sk-container-id-1 div.sk-serial {display: flex;flex-direction: column;align-items: center;background-color: white;padding-right: 0.2em;padding-left: 0.2em;position: relative;}#sk-container-id-1 div.sk-item {position: relative;z-index: 1;}#sk-container-id-1 div.sk-parallel {display: flex;align-items: stretch;justify-content: center;background-color: white;position: relative;}#sk-container-id-1 div.sk-item::before, #sk-container-id-1 div.sk-parallel-item::before {content: \"\";position: absolute;border-left: 1px solid gray;box-sizing: border-box;top: 0;bottom: 0;left: 50%;z-index: -1;}#sk-container-id-1 div.sk-parallel-item {display: flex;flex-direction: column;z-index: 1;position: relative;background-color: white;}#sk-container-id-1 div.sk-parallel-item:first-child::after {align-self: flex-end;width: 50%;}#sk-container-id-1 div.sk-parallel-item:last-child::after {align-self: flex-start;width: 50%;}#sk-container-id-1 div.sk-parallel-item:only-child::after {width: 0;}#sk-container-id-1 div.sk-dashed-wrapped {border: 1px dashed gray;margin: 0 0.4em 0.5em 0.4em;box-sizing: border-box;padding-bottom: 0.4em;background-color: white;}#sk-container-id-1 div.sk-label label {font-family: monospace;font-weight: bold;display: inline-block;line-height: 1.2em;}#sk-container-id-1 div.sk-label-container {text-align: center;}#sk-container-id-1 div.sk-container {/* jupyter's `normalize.less` sets `[hidden] { display: none; }` but bootstrap.min.css set `[hidden] { display: none !important; }` so we also need the `!important` here to be able to override the default hidden behavior on the sphinx rendered scikit-learn.org. See: https://github.com/scikit-learn/scikit-learn/issues/21755 */display: inline-block !important;position: relative;}#sk-container-id-1 div.sk-text-repr-fallback {display: none;}</style><div id=\"sk-container-id-1\" class=\"sk-top-container\"><div class=\"sk-text-repr-fallback\"><pre>DecisionTreeClassifier(max_depth=2)</pre><b>In a Jupyter environment, please rerun this cell to show the HTML representation or trust the notebook. <br />On GitHub, the HTML representation is unable to render, please try loading this page with nbviewer.org.</b></div><div class=\"sk-container\" hidden><div class=\"sk-item\"><div class=\"sk-estimator sk-toggleable\"><input class=\"sk-toggleable__control sk-hidden--visually\" id=\"sk-estimator-id-1\" type=\"checkbox\" checked><label for=\"sk-estimator-id-1\" class=\"sk-toggleable__label sk-toggleable__label-arrow\">DecisionTreeClassifier</label><div class=\"sk-toggleable__content\"><pre>DecisionTreeClassifier(max_depth=2)</pre></div></div></div></div></div>"
      ],
      "text/plain": [
       "DecisionTreeClassifier(max_depth=2)"
      ]
     },
     "execution_count": 4,
     "metadata": {},
     "output_type": "execute_result"
    }
   ],
   "source": [
    "from sklearn.tree import DecisionTreeClassifier\n",
    "# Perform one-hot encoding on the 'Platform' column\n",
    "one_hot = pd.get_dummies(games['Platform'])\n",
    "\n",
    "# Concatenate the one-hot encoded columns with the original dataset\n",
    "games_encoded = pd.concat([games, one_hot], axis=1)\n",
    "\n",
    "# Select feature variables\n",
    "features = ['NA_Sales', 'EU_Sales']\n",
    "\n",
    "# Create a DecisionTreeClassifier instance\n",
    "dt_classifier = DecisionTreeClassifier(max_depth=2)\n",
    "\n",
    "# Fit the model on the train set with selected features\n",
    "dt_classifier.fit(games_train[features], games_train['Genre'])\n"
   ]
  },
  {
   "cell_type": "code",
   "execution_count": 6,
   "id": "8e900485",
   "metadata": {},
   "outputs": [
    {
     "name": "stdout",
     "output_type": "stream",
     "text": [
      "Accuracy on train set:  0.21432956239586073\n",
      "Accuracy on test set:  0.21092471358428805\n"
     ]
    }
   ],
   "source": [
    "from sklearn.metrics import accuracy_score\n",
    "\n",
    "# make predictions on the train set\n",
    "train_predictions = dt_classifier.predict(games_train[features])\n",
    "\n",
    "# calculate the accuracy of the train set predictions\n",
    "train_accuracy = accuracy_score(games_train['Genre'], train_predictions)\n",
    "\n",
    "# make predictions on the test set\n",
    "test_predictions = dt_classifier.predict(games_test[features])\n",
    "\n",
    "# calculate the accuracy of the test set predictions\n",
    "test_accuracy = accuracy_score(games_test['Genre'], test_predictions)\n",
    "\n",
    "print(\"Accuracy on train set: \", train_accuracy)\n",
    "print(\"Accuracy on test set: \", test_accuracy)\n"
   ]
  },
  {
   "cell_type": "markdown",
   "id": "c72054a2",
   "metadata": {},
   "source": [
    "I believe there is a small change of it guessing the correct. train set always performs better than the test sets. btu they are still very similar."
   ]
  },
  {
   "cell_type": "code",
   "execution_count": 7,
   "id": "531ccc22",
   "metadata": {},
   "outputs": [],
   "source": [
    "from sklearn import tree\n",
    "import graphviz\n",
    "\n",
    "def plot_tree_classification(model, features, class_names):\n",
    "    # Generate plot data\n",
    "    dot_data = tree.export_graphviz(model, out_file=None, \n",
    "                          feature_names=features,  \n",
    "                          class_names=class_names,  \n",
    "                          filled=True, rounded=True,  \n",
    "                          special_characters=True)  \n",
    "\n",
    "    # Turn into graph using graphviz\n",
    "    graph = graphviz.Source(dot_data)  \n",
    "\n",
    "    # Write out a pdf\n",
    "    graph.render(\"decision_tree\")\n",
    "\n",
    "    # Display in the notebook\n",
    "    return graph "
   ]
  },
  {
   "cell_type": "code",
   "execution_count": 8,
   "id": "27c6a727",
   "metadata": {},
   "outputs": [
    {
     "data": {
      "image/svg+xml": [
       "<?xml version=\"1.0\" encoding=\"UTF-8\" standalone=\"no\"?>\n",
       "<!DOCTYPE svg PUBLIC \"-//W3C//DTD SVG 1.1//EN\"\n",
       " \"http://www.w3.org/Graphics/SVG/1.1/DTD/svg11.dtd\">\n",
       "<!-- Generated by graphviz version 2.48.0 (0)\n",
       " -->\n",
       "<!-- Title: Tree Pages: 1 -->\n",
       "<svg width=\"1555pt\" height=\"359pt\"\n",
       " viewBox=\"0.00 0.00 1554.50 359.00\" xmlns=\"http://www.w3.org/2000/svg\" xmlns:xlink=\"http://www.w3.org/1999/xlink\">\n",
       "<g id=\"graph0\" class=\"graph\" transform=\"scale(1 1) rotate(0) translate(4 355)\">\n",
       "<title>Tree</title>\n",
       "<polygon fill=\"white\" stroke=\"transparent\" points=\"-4,4 -4,-355 1550.5,-355 1550.5,4 -4,4\"/>\n",
       "<!-- 0 -->\n",
       "<g id=\"node1\" class=\"node\">\n",
       "<title>0</title>\n",
       "<path fill=\"#fdf7f2\" stroke=\"black\" d=\"M947,-351C947,-351 575,-351 575,-351 569,-351 563,-345 563,-339 563,-339 563,-265 563,-265 563,-259 569,-253 575,-253 575,-253 947,-253 947,-253 953,-253 959,-259 959,-265 959,-265 959,-339 959,-339 959,-345 953,-351 947,-351\"/>\n",
       "<text text-anchor=\"start\" x=\"704.5\" y=\"-335.8\" font-family=\"Helvetica,sans-Serif\" font-size=\"14.00\">NA_Sales ≤ 0.005</text>\n",
       "<text text-anchor=\"start\" x=\"724.5\" y=\"-320.8\" font-family=\"Helvetica,sans-Serif\" font-size=\"14.00\">gini = 0.892</text>\n",
       "<text text-anchor=\"start\" x=\"708\" y=\"-305.8\" font-family=\"Helvetica,sans-Serif\" font-size=\"14.00\">samples = 11403</text>\n",
       "<text text-anchor=\"start\" x=\"571\" y=\"-290.8\" font-family=\"Helvetica,sans-Serif\" font-size=\"14.00\">value = [2257, 891, 595, 1190, 595, 391, 846, 1057, 885, 577</text>\n",
       "<text text-anchor=\"start\" x=\"727.5\" y=\"-275.8\" font-family=\"Helvetica,sans-Serif\" font-size=\"14.00\">1622, 497]</text>\n",
       "<text text-anchor=\"start\" x=\"718\" y=\"-260.8\" font-family=\"Helvetica,sans-Serif\" font-size=\"14.00\">class = Action</text>\n",
       "</g>\n",
       "<!-- 1 -->\n",
       "<g id=\"node2\" class=\"node\">\n",
       "<title>1</title>\n",
       "<path fill=\"#fffffd\" stroke=\"black\" d=\"M740.5,-217C740.5,-217 383.5,-217 383.5,-217 377.5,-217 371.5,-211 371.5,-205 371.5,-205 371.5,-131 371.5,-131 371.5,-125 377.5,-119 383.5,-119 383.5,-119 740.5,-119 740.5,-119 746.5,-119 752.5,-125 752.5,-131 752.5,-131 752.5,-205 752.5,-205 752.5,-211 746.5,-217 740.5,-217\"/>\n",
       "<text text-anchor=\"start\" x=\"505.5\" y=\"-201.8\" font-family=\"Helvetica,sans-Serif\" font-size=\"14.00\">EU_Sales ≤ 0.005</text>\n",
       "<text text-anchor=\"start\" x=\"525.5\" y=\"-186.8\" font-family=\"Helvetica,sans-Serif\" font-size=\"14.00\">gini = 0.883</text>\n",
       "<text text-anchor=\"start\" x=\"512\" y=\"-171.8\" font-family=\"Helvetica,sans-Serif\" font-size=\"14.00\">samples = 3096</text>\n",
       "<text text-anchor=\"start\" x=\"379.5\" y=\"-156.8\" font-family=\"Helvetica,sans-Serif\" font-size=\"14.00\">value = [498, 524, 170, 355, 54, 95, 92, 449, 108, 155, 352</text>\n",
       "<text text-anchor=\"start\" x=\"548\" y=\"-141.8\" font-family=\"Helvetica,sans-Serif\" font-size=\"14.00\">244]</text>\n",
       "<text text-anchor=\"start\" x=\"506.5\" y=\"-126.8\" font-family=\"Helvetica,sans-Serif\" font-size=\"14.00\">class = Adventure</text>\n",
       "</g>\n",
       "<!-- 0&#45;&gt;1 -->\n",
       "<g id=\"edge1\" class=\"edge\">\n",
       "<title>0&#45;&gt;1</title>\n",
       "<path fill=\"none\" stroke=\"black\" d=\"M688.59,-252.97C673.92,-243.24 658.39,-232.93 643.42,-223.01\"/>\n",
       "<polygon fill=\"black\" stroke=\"black\" points=\"644.95,-219.82 634.69,-217.21 641.08,-225.66 644.95,-219.82\"/>\n",
       "<text text-anchor=\"middle\" x=\"639.65\" y=\"-238.02\" font-family=\"Helvetica,sans-Serif\" font-size=\"14.00\">True</text>\n",
       "</g>\n",
       "<!-- 4 -->\n",
       "<g id=\"node5\" class=\"node\">\n",
       "<title>4</title>\n",
       "<path fill=\"#fdf6f1\" stroke=\"black\" d=\"M1139.5,-217C1139.5,-217 782.5,-217 782.5,-217 776.5,-217 770.5,-211 770.5,-205 770.5,-205 770.5,-131 770.5,-131 770.5,-125 776.5,-119 782.5,-119 782.5,-119 1139.5,-119 1139.5,-119 1145.5,-119 1151.5,-125 1151.5,-131 1151.5,-131 1151.5,-205 1151.5,-205 1151.5,-211 1145.5,-217 1139.5,-217\"/>\n",
       "<text text-anchor=\"start\" x=\"904.5\" y=\"-201.8\" font-family=\"Helvetica,sans-Serif\" font-size=\"14.00\">EU_Sales ≤ 0.005</text>\n",
       "<text text-anchor=\"start\" x=\"924.5\" y=\"-186.8\" font-family=\"Helvetica,sans-Serif\" font-size=\"14.00\">gini = 0.886</text>\n",
       "<text text-anchor=\"start\" x=\"911\" y=\"-171.8\" font-family=\"Helvetica,sans-Serif\" font-size=\"14.00\">samples = 8307</text>\n",
       "<text text-anchor=\"start\" x=\"778.5\" y=\"-156.8\" font-family=\"Helvetica,sans-Serif\" font-size=\"14.00\">value = [1759, 367, 425, 835, 541, 296, 754, 608, 777, 422</text>\n",
       "<text text-anchor=\"start\" x=\"927.5\" y=\"-141.8\" font-family=\"Helvetica,sans-Serif\" font-size=\"14.00\">1270, 253]</text>\n",
       "<text text-anchor=\"start\" x=\"918\" y=\"-126.8\" font-family=\"Helvetica,sans-Serif\" font-size=\"14.00\">class = Action</text>\n",
       "</g>\n",
       "<!-- 0&#45;&gt;4 -->\n",
       "<g id=\"edge4\" class=\"edge\">\n",
       "<title>0&#45;&gt;4</title>\n",
       "<path fill=\"none\" stroke=\"black\" d=\"M833.77,-252.97C848.66,-243.14 864.42,-232.74 879.59,-222.73\"/>\n",
       "<polygon fill=\"black\" stroke=\"black\" points=\"881.53,-225.64 887.95,-217.21 877.67,-219.8 881.53,-225.64\"/>\n",
       "<text text-anchor=\"middle\" x=\"882.93\" y=\"-238.01\" font-family=\"Helvetica,sans-Serif\" font-size=\"14.00\">False</text>\n",
       "</g>\n",
       "<!-- 2 -->\n",
       "<g id=\"node3\" class=\"node\">\n",
       "<title>2</title>\n",
       "<path fill=\"#fefef8\" stroke=\"black\" d=\"M354,-83C354,-83 12,-83 12,-83 6,-83 0,-77 0,-71 0,-71 0,-12 0,-12 0,-6 6,0 12,0 12,0 354,0 354,0 360,0 366,-6 366,-12 366,-12 366,-71 366,-71 366,-77 360,-83 354,-83\"/>\n",
       "<text text-anchor=\"start\" x=\"150.5\" y=\"-67.8\" font-family=\"Helvetica,sans-Serif\" font-size=\"14.00\">gini = 0.87</text>\n",
       "<text text-anchor=\"start\" x=\"133\" y=\"-52.8\" font-family=\"Helvetica,sans-Serif\" font-size=\"14.00\">samples = 2322</text>\n",
       "<text text-anchor=\"start\" x=\"8\" y=\"-37.8\" font-family=\"Helvetica,sans-Serif\" font-size=\"14.00\">value = [365, 461, 158, 274, 39, 52, 31, 396, 57, 97, 244</text>\n",
       "<text text-anchor=\"start\" x=\"169\" y=\"-22.8\" font-family=\"Helvetica,sans-Serif\" font-size=\"14.00\">148]</text>\n",
       "<text text-anchor=\"start\" x=\"127.5\" y=\"-7.8\" font-family=\"Helvetica,sans-Serif\" font-size=\"14.00\">class = Adventure</text>\n",
       "</g>\n",
       "<!-- 1&#45;&gt;2 -->\n",
       "<g id=\"edge2\" class=\"edge\">\n",
       "<title>1&#45;&gt;2</title>\n",
       "<path fill=\"none\" stroke=\"black\" d=\"M415.74,-118.95C383.06,-108.22 348.58,-96.89 316.45,-86.34\"/>\n",
       "<polygon fill=\"black\" stroke=\"black\" points=\"317.15,-82.89 306.56,-83.09 314.97,-89.54 317.15,-82.89\"/>\n",
       "</g>\n",
       "<!-- 3 -->\n",
       "<g id=\"node4\" class=\"node\">\n",
       "<title>3</title>\n",
       "<path fill=\"#fefaf8\" stroke=\"black\" d=\"M734,-75.5C734,-75.5 396,-75.5 396,-75.5 390,-75.5 384,-69.5 384,-63.5 384,-63.5 384,-19.5 384,-19.5 384,-13.5 390,-7.5 396,-7.5 396,-7.5 734,-7.5 734,-7.5 740,-7.5 746,-13.5 746,-19.5 746,-19.5 746,-63.5 746,-63.5 746,-69.5 740,-75.5 734,-75.5\"/>\n",
       "<text text-anchor=\"start\" x=\"528.5\" y=\"-60.3\" font-family=\"Helvetica,sans-Serif\" font-size=\"14.00\">gini = 0.893</text>\n",
       "<text text-anchor=\"start\" x=\"519\" y=\"-45.3\" font-family=\"Helvetica,sans-Serif\" font-size=\"14.00\">samples = 774</text>\n",
       "<text text-anchor=\"start\" x=\"392\" y=\"-30.3\" font-family=\"Helvetica,sans-Serif\" font-size=\"14.00\">value = [133, 63, 12, 81, 15, 43, 61, 53, 51, 58, 108, 96]</text>\n",
       "<text text-anchor=\"start\" x=\"522\" y=\"-15.3\" font-family=\"Helvetica,sans-Serif\" font-size=\"14.00\">class = Action</text>\n",
       "</g>\n",
       "<!-- 1&#45;&gt;3 -->\n",
       "<g id=\"edge3\" class=\"edge\">\n",
       "<title>1&#45;&gt;3</title>\n",
       "<path fill=\"none\" stroke=\"black\" d=\"M563.16,-118.87C563.42,-108.09 563.69,-96.71 563.95,-86.13\"/>\n",
       "<polygon fill=\"black\" stroke=\"black\" points=\"567.45,-85.95 564.2,-75.86 560.46,-85.78 567.45,-85.95\"/>\n",
       "</g>\n",
       "<!-- 5 -->\n",
       "<g id=\"node6\" class=\"node\">\n",
       "<title>5</title>\n",
       "<path fill=\"#fefbfd\" stroke=\"black\" d=\"M1135,-83C1135,-83 781,-83 781,-83 775,-83 769,-77 769,-71 769,-71 769,-12 769,-12 769,-6 775,0 781,0 781,0 1135,0 1135,0 1141,0 1147,-6 1147,-12 1147,-12 1147,-71 1147,-71 1147,-77 1141,-83 1135,-83\"/>\n",
       "<text text-anchor=\"start\" x=\"921.5\" y=\"-67.8\" font-family=\"Helvetica,sans-Serif\" font-size=\"14.00\">gini = 0.888</text>\n",
       "<text text-anchor=\"start\" x=\"908\" y=\"-52.8\" font-family=\"Helvetica,sans-Serif\" font-size=\"14.00\">samples = 1591</text>\n",
       "<text text-anchor=\"start\" x=\"777\" y=\"-37.8\" font-family=\"Helvetica,sans-Serif\" font-size=\"14.00\">value = [203, 86, 52, 265, 65, 133, 111, 117, 100, 123, 294</text>\n",
       "<text text-anchor=\"start\" x=\"948\" y=\"-22.8\" font-family=\"Helvetica,sans-Serif\" font-size=\"14.00\">42]</text>\n",
       "<text text-anchor=\"start\" x=\"913.5\" y=\"-7.8\" font-family=\"Helvetica,sans-Serif\" font-size=\"14.00\">class = Sports</text>\n",
       "</g>\n",
       "<!-- 4&#45;&gt;5 -->\n",
       "<g id=\"edge5\" class=\"edge\">\n",
       "<title>4&#45;&gt;5</title>\n",
       "<path fill=\"none\" stroke=\"black\" d=\"M959.84,-118.87C959.64,-110.5 959.43,-101.77 959.22,-93.33\"/>\n",
       "<polygon fill=\"black\" stroke=\"black\" points=\"962.72,-93.14 958.98,-83.23 955.72,-93.31 962.72,-93.14\"/>\n",
       "</g>\n",
       "<!-- 6 -->\n",
       "<g id=\"node7\" class=\"node\">\n",
       "<title>6</title>\n",
       "<path fill=\"#fcf2eb\" stroke=\"black\" d=\"M1534.5,-83C1534.5,-83 1177.5,-83 1177.5,-83 1171.5,-83 1165.5,-77 1165.5,-71 1165.5,-71 1165.5,-12 1165.5,-12 1165.5,-6 1171.5,0 1177.5,0 1177.5,0 1534.5,0 1534.5,0 1540.5,0 1546.5,-6 1546.5,-12 1546.5,-12 1546.5,-71 1546.5,-71 1546.5,-77 1540.5,-83 1534.5,-83\"/>\n",
       "<text text-anchor=\"start\" x=\"1323.5\" y=\"-67.8\" font-family=\"Helvetica,sans-Serif\" font-size=\"14.00\">gini = 0.88</text>\n",
       "<text text-anchor=\"start\" x=\"1306\" y=\"-52.8\" font-family=\"Helvetica,sans-Serif\" font-size=\"14.00\">samples = 6716</text>\n",
       "<text text-anchor=\"start\" x=\"1173.5\" y=\"-37.8\" font-family=\"Helvetica,sans-Serif\" font-size=\"14.00\">value = [1556, 281, 373, 570, 476, 163, 643, 491, 677, 299</text>\n",
       "<text text-anchor=\"start\" x=\"1327\" y=\"-22.8\" font-family=\"Helvetica,sans-Serif\" font-size=\"14.00\">976, 211]</text>\n",
       "<text text-anchor=\"start\" x=\"1313\" y=\"-7.8\" font-family=\"Helvetica,sans-Serif\" font-size=\"14.00\">class = Action</text>\n",
       "</g>\n",
       "<!-- 4&#45;&gt;6 -->\n",
       "<g id=\"edge6\" class=\"edge\">\n",
       "<title>4&#45;&gt;6</title>\n",
       "<path fill=\"none\" stroke=\"black\" d=\"M1113.43,-118.95C1147.64,-108.17 1183.74,-96.79 1217.35,-86.2\"/>\n",
       "<polygon fill=\"black\" stroke=\"black\" points=\"1218.74,-89.43 1227.22,-83.09 1216.63,-82.76 1218.74,-89.43\"/>\n",
       "</g>\n",
       "</g>\n",
       "</svg>\n"
      ],
      "text/plain": [
       "<graphviz.files.Source at 0x1351daca0>"
      ]
     },
     "execution_count": 8,
     "metadata": {},
     "output_type": "execute_result"
    }
   ],
   "source": [
    "plot_tree_classification(dt_classifier, features, np.sort(games_train.Genre.unique()))"
   ]
  },
  {
   "cell_type": "code",
   "execution_count": 9,
   "id": "38c7f279",
   "metadata": {},
   "outputs": [
    {
     "data": {
      "text/plain": [
       "array(['Action', 'Adventure', 'Fighting', 'Misc', 'Platform', 'Puzzle',\n",
       "       'Racing', 'Role-Playing', 'Shooter', 'Simulation', 'Sports',\n",
       "       'Strategy'], dtype=object)"
      ]
     },
     "execution_count": 9,
     "metadata": {},
     "output_type": "execute_result"
    }
   ],
   "source": [
    "np.sort(games.Genre.unique())"
   ]
  },
  {
   "cell_type": "markdown",
   "id": "5c1a2e73",
   "metadata": {},
   "source": [
    "My understanding from the tree is that each block asks a question that results into a true or false. The tree splits the samples based on their result. This will repeat untill the given amount of dept variable. At the bottom of the tree it will tell you the prediction class. so this tree is used to predict a genre when for example a the training set is put into this."
   ]
  }
 ],
 "metadata": {
  "kernelspec": {
   "display_name": "Python 3 (ipykernel)",
   "language": "python",
   "name": "python3"
  },
  "language_info": {
   "codemirror_mode": {
    "name": "ipython",
    "version": 3
   },
   "file_extension": ".py",
   "mimetype": "text/x-python",
   "name": "python",
   "nbconvert_exporter": "python",
   "pygments_lexer": "ipython3",
   "version": "3.9.13"
  }
 },
 "nbformat": 4,
 "nbformat_minor": 5
}
