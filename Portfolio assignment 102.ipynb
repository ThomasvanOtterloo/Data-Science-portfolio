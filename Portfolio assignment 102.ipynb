{
 "cells": [
  {
   "cell_type": "markdown",
   "id": "2d8346aa",
   "metadata": {},
   "source": [
    "# What does a data scientist do?\n"
   ]
  },
  {
   "cell_type": "markdown",
   "id": "7b44a458",
   "metadata": {},
   "source": [
    "The task of a data scientist is to extract insights and knowledge from data, which can be used to inform business decisions, solve problems, and optimize processes. This involves using a variety of analytical and statistical techniques to explore and manipulate data, and then using that data to develop predictive models or other solutions that can be applied to real-world problems.\n",
    "\n",
    "For example, a data scientist might create a decision tree to predict which category something fits into. Alternatively, they might use machine learning to predict which products a customer is likely to buy after purchasing a specific item. These predictive models are just one way that data scientists can provide valuable insights to clients or stakeholders.\n",
    "\n",
    "Effective communication is also a critical part of the data scientist's role. They must be able to explain their findings and insights to a variety of audiences, including executives, managers, and other team members. This requires strong communication skills, as well as the ability to translate technical concepts into plain language that non-technical stakeholders can understand."
   ]
  },
  {
   "cell_type": "markdown",
   "id": "76332107",
   "metadata": {},
   "source": [
    "![](decision_tree.pdf)"
   ]
  },
  {
   "cell_type": "markdown",
   "id": "a9e70728",
   "metadata": {},
   "source": [
    "Overall, the role of a data scientist is to use data to inform decision-making and solve real-world problems. it is done by visualizing dataset and communicating back to the client on what patterns or problems the data scientist found.\n",
    "\n",
    "In the image below is an example of portfolio assignment 11 where i wanted to take a know about the weight differences between a male and female pengiun. By graphing the body mass with the sex attribute, i can now easily read which sex in generally more heavy. With these readings i can investigate more and more about the pengiun data set and deliver more information to the client hoping to fix some problems."
   ]
  },
  {
   "cell_type": "markdown",
   "id": "2c67be5b",
   "metadata": {},
   "source": [
    "![](SexGraph.png)"
   ]
  }
 ],
 "metadata": {
  "kernelspec": {
   "display_name": "Python 3 (ipykernel)",
   "language": "python",
   "name": "python3"
  },
  "language_info": {
   "codemirror_mode": {
    "name": "ipython",
    "version": 3
   },
   "file_extension": ".py",
   "mimetype": "text/x-python",
   "name": "python",
   "nbconvert_exporter": "python",
   "pygments_lexer": "ipython3",
   "version": "3.9.13"
  }
 },
 "nbformat": 4,
 "nbformat_minor": 5
}
